{
 "cells": [
  {
   "cell_type": "markdown",
   "metadata": {},
   "source": [
    "# MUSIC Super-resolution Microscopy"
   ]
  },
  {
   "cell_type": "markdown",
   "metadata": {},
   "source": [
    "## Dependencies"
   ]
  },
  {
   "cell_type": "code",
   "execution_count": 478,
   "metadata": {},
   "outputs": [],
   "source": [
    "import numpy as np\n",
    "import matplotlib.pyplot as plt\n",
    "from scipy.ndimage import gaussian_filter\n",
    "from PIL import Image\n",
    "from mpl_toolkits.mplot3d import Axes3D"
   ]
  },
  {
   "cell_type": "markdown",
   "metadata": {},
   "source": [
    "## Program Parameters"
   ]
  },
  {
   "cell_type": "code",
   "execution_count": 479,
   "metadata": {},
   "outputs": [],
   "source": [
    "class params:\n",
    "    k     = 3       # Source number\n",
    "    M     = 24      # Sensor array size (assuming square)\n",
    "    T     = 200     # Snapshot number\n",
    "    noise = 0.01       # Noise power\n",
    "    width = 1       # Sensors are placed between [-width,width]\n",
    "    sep   = 0.2    # Source inter-separation distance\n",
    "    sig   = 0.05       # Gaussian kernel variance\n",
    "    Q     = 128      # MUSIC 'Resolution'\n",
    "p = params()"
   ]
  },
  {
   "cell_type": "markdown",
   "metadata": {},
   "source": [
    "## Creating Synthetic Data"
   ]
  },
  {
   "cell_type": "markdown",
   "metadata": {},
   "source": [
    "$$[U]_{s,k} = u(r_s-r_k) = \\exp(-\\frac{1}{2\\sigma}\\| r_s-r_k \\|^2) $$"
   ]
  },
  {
   "cell_type": "markdown",
   "metadata": {},
   "source": [
    "### Plot 1D Gaussian Kernel (for viewing)"
   ]
  },
  {
   "cell_type": "code",
   "execution_count": 480,
   "metadata": {
    "scrolled": true
   },
   "outputs": [
    {
     "data": {
      "image/png": "[encoded data removed]",
      "text/plain": [
       "<Figure size 432x288 with 1 Axes>"
      ]
     },
     "metadata": {
      "needs_background": "light"
     },
     "output_type": "display_data"
    }
   ],
   "source": [
    "# Plot the 1D Kernel \n",
    "x = np.linspace(-10,10,1000).reshape(-1,1)\n",
    "gx = np.exp(-(0.5/p.sig**2)*np.abs(x)**2)\n",
    "gy = np.exp(-(0.5/p.sig**2)*np.abs(x)**2)\n",
    "g  = gx @ gy.T\n",
    "plt.imshow(g)\n",
    "plt.title('Gaussian')\n",
    "plt.show()"
   ]
  },
  {
   "cell_type": "markdown",
   "metadata": {},
   "source": [
    "### Create Synthetic Measurement Data"
   ]
  },
  {
   "cell_type": "code",
   "execution_count": 481,
   "metadata": {},
   "outputs": [],
   "source": [
    "#https://stackoverflow.com/questions/2566412/find-nearest-value-in-numpy-array\n",
    "def find_nearest(array, value):\n",
    "    array = np.asarray(array)\n",
    "    idx = (np.abs(array - value)).argmin()\n",
    "    return idx,array[idx]"
   ]
  },
  {
   "cell_type": "markdown",
   "metadata": {},
   "source": [
    "#### (a) Create Diagonals"
   ]
  },
  {
   "cell_type": "code",
   "execution_count": 482,
   "metadata": {},
   "outputs": [],
   "source": [
    "# Generate diagonal 2D source positions\n",
    "r_kx = np.linspace(-p.sep*p.width,p.sep*p.width,p.k).reshape(-1,1)\n",
    "r_ky = np.linspace(-p.sep*p.width,p.sep*p.width,p.k).reshape(-1,1)\n",
    "r_k  = np.hstack((r_kx,r_ky))\n",
    "\n",
    "# Create High-resolution image representation of source positions\n",
    "hr_sx = np.linspace(-p.width,p.width,p.Q).reshape(-1,1)\n",
    "hr_sy = np.linspace(-p.width,p.width,p.Q).reshape(-1,1)\n",
    "\n",
    "truth_img = np.zeros((p.Q,p.Q))\n",
    "for x,y in r_k:\n",
    "    indx,_ = find_nearest(hr_sx,x)\n",
    "    indy,_ = find_nearest(hr_sy,y)\n",
    "    truth_img[indx,indy] = 1"
   ]
  },
  {
   "cell_type": "markdown",
   "metadata": {},
   "source": [
    "#### (b) or Get from Image"
   ]
  },
  {
   "cell_type": "code",
   "execution_count": 483,
   "metadata": {},
   "outputs": [],
   "source": [
    "# Generate 2D source positions from image\n",
    "img = plt.imread(\"strands1.tif\")\n",
    "\n",
    "# Get HR grid size from image instead\n",
    "p.Q = img.shape[0]\n",
    "\n",
    "# Create that HR grid w/ proper distances\n",
    "hr_sx = np.linspace(-p.width,p.width,p.Q).reshape(-1,1)\n",
    "hr_sy = np.linspace(-p.width,p.width,p.Q).reshape(-1,1)\n",
    "\n",
    "# Get non-zero indicies from truth\n",
    "r_ind = np.asarray(np.nonzero(img.T)).T\n",
    "\n",
    "# Get number of sources\n",
    "p.k = r_ind.shape[0]\n",
    "\n",
    "# Convert it to distances, and finalize r_k\n",
    "r_kx = hr_sx[r_ind[:,0]]\n",
    "r_ky = hr_sy[r_ind[:,1]]\n",
    "r_k  = np.hstack((r_kx,r_ky))\n",
    "\n",
    "# Assign truth to proper variable\n",
    "truth_img = img"
   ]
  },
  {
   "cell_type": "code",
   "execution_count": 484,
   "metadata": {},
   "outputs": [],
   "source": [
    "# Create 2D (low-resolution) measurement array\n",
    "r_sx = np.linspace(-p.width,p.width,p.M).reshape(-1,1)\n",
    "r_sy = np.linspace(-p.width,p.width,p.M).reshape(-1,1)\n",
    "r_s  = np.hstack((r_sx,r_sy))\n",
    "\n",
    "# From source positions, and the sensors, create the sensing matrix\n",
    "U = np.zeros((p.M**2,p.k))\n",
    "for k in range(p.k):\n",
    "    r  = r_k[k]\n",
    "    arg = r_s - r\n",
    "    uflat = np.exp(-(0.5/p.sig**2)*np.abs(arg)**2)\n",
    "    ux = uflat[:,0].reshape(-1,1)\n",
    "    uy = uflat[:,1].reshape(-1,1)\n",
    "    Uk = ux @ uy.T.conj()\n",
    "    U[:,k] = Uk.flatten('F')\n",
    "\n",
    "# Construct random flucations over frames for the sources\n",
    "x = np.random.uniform(0,2,(p.k,p.T));\n",
    "# Construct additive noise (clip if less than 0)\n",
    "n = p.noise*np.random.randn(p.M**2,p.T)\n",
    "n[np.where(n < 0)] = 0\n",
    "\n",
    "# Construct final measurements\n",
    "f = U @ x + n"
   ]
  },
  {
   "cell_type": "code",
   "execution_count": 485,
   "metadata": {},
   "outputs": [
    {
     "data": {
      "image/png": "[encoded data removed]",
      "text/plain": [
       "<Figure size 720x360 with 3 Axes>"
      ]
     },
     "metadata": {
      "needs_background": "light"
     },
     "output_type": "display_data"
    },
    {
     "name": "stdout",
     "output_type": "stream",
     "text": [
      "371 Sources\n"
     ]
    }
   ],
   "source": [
    "plt.figure(figsize=(10,5))\n",
    "plt.subplot(1,3,1)\n",
    "plt.imshow(truth_img)\n",
    "plt.subplot(1,3,2)\n",
    "plt.imshow(np.mean(f,axis=1).reshape(-1,p.M))\n",
    "plt.subplot(1,3,3)\n",
    "plt.imshow(f[:,np.random.randint(p.M)].reshape(-1,p.M))\n",
    "\n",
    "plt.show()\n",
    "print(\"{} Sources\".format(p.k))"
   ]
  },
  {
   "cell_type": "markdown",
   "metadata": {},
   "source": [
    "## Perform MUSIC to recover sources"
   ]
  },
  {
   "cell_type": "code",
   "execution_count": 486,
   "metadata": {},
   "outputs": [],
   "source": [
    "def MUSIC1D(data, sensor_pos, source_num, width, sig, HR_grid_size):\n",
    "    # Perform SVD on the data\n",
    "    U,_,_ = np.linalg.svd(data)\n",
    "    # Select columns of U which correspond to noise-subspace\n",
    "    U2 = U[:,source_num:]\n",
    "    # Create Grid for MUSIC\n",
    "    HR_sensor_pos = np.linspace(-width,width,HR_grid_size)\n",
    "    # Create HR sensing matrix\n",
    "    A = np.exp(-(0.5/p.sig**2)*np.abs(sensor_pos[:,np.newaxis] - HR_sensor_pos)**2)\n",
    "    # Calculate error between sensor image and projection, and invert for MUSIC result\n",
    "    #err = np.linalg.norm( A - U2 @ U2.conj().T @ A, axis=0 )**2\n",
    "    music = np.zeros(HR_grid_size)\n",
    "    for i in range(HR_grid_size):\n",
    "        err = A[:,i].T.conj() @ (U2@U2.T.conj()) @ A[:,i]\n",
    "        music[i] = 1/err\n",
    "    \n",
    "    return HR_sensor_pos,music\n",
    "\n",
    "def MUSIC2D(data, sensor_pos, source_num, width, sig, HR_grid_size):\n",
    "    # Perform SVD on the data\n",
    "    U,_,_ = np.linalg.svd(data)\n",
    "    # Select columns of U which correspond to noise-subspace\n",
    "    U2 = U[:,source_num:]\n",
    "    # Create Grid for MUSIC\n",
    "    HR_sensor_pos_x = np.linspace(-width,width,HR_grid_size).reshape(-1,1)\n",
    "    HR_sensor_pos_y = np.linspace(-width,width,HR_grid_size).reshape(-1,1)\n",
    "    # Elaborate way to get all combinations of x,y points on the grid\n",
    "    HR_sensor_pos   = np.stack(np.meshgrid(HR_sensor_pos_x,HR_sensor_pos_y),-1).reshape(-1,2)\n",
    "    \n",
    "    # Create HR sensing matrix\n",
    "    A = np.zeros((sensor_pos.shape[0]**2,HR_grid_size**2))\n",
    "    for q in range(HR_grid_size**2):\n",
    "        r  = HR_sensor_pos[q,:]\n",
    "        arg = sensor_pos - r\n",
    "        aflat = np.exp(-(0.5/p.sig**2)*np.abs(arg)**2)\n",
    "        ax = aflat[:,0].reshape(-1,1)\n",
    "        ay = aflat[:,1].reshape(-1,1)\n",
    "        Aq = ax @ ay.T.conj()\n",
    "        A[:,q] = Aq.flatten('F')\n",
    "\n",
    "    # Calculate error between sensor image and projection, and invert for MUSIC result\n",
    "    \n",
    "    music = np.zeros(HR_grid_size**2)\n",
    "    for i in range(HR_grid_size**2):\n",
    "        err = A[:,i].T.conj() @ (U2@U2.T.conj()) @ A[:,i]\n",
    "        #err = np.linalg.norm( A[:,i] - U2 @ U2.conj().T @ A[:,i] )**2\n",
    "        music[i] = 1/err\n",
    "    \n",
    "    return HR_sensor_pos,music\n",
    "\n",
    "music_axis, music = MUSIC2D(f,r_s,p.k,p.width,p.sig,p.Q)"
   ]
  },
  {
   "cell_type": "markdown",
   "metadata": {},
   "source": [
    "## Display Results"
   ]
  },
  {
   "cell_type": "code",
   "execution_count": 472,
   "metadata": {},
   "outputs": [
    {
     "data": {
      "image/png": "[encoded data removed]",
      "text/plain": [
       "<Figure size 1080x360 with 3 Axes>"
      ]
     },
     "metadata": {
      "needs_background": "light"
     },
     "output_type": "display_data"
    },
    {
     "name": "stdout",
     "output_type": "stream",
     "text": [
      "Normalized MSE: 4567.9069172787695\n"
     ]
    }
   ],
   "source": [
    "plt.figure(figsize=(15,5))\n",
    "\n",
    "p1 = plt.subplot(1,3,1)\n",
    "plt.imshow(truth_img)\n",
    "plt.title(\"High-Resolution Grid Truth\")\n",
    "\n",
    "p2 = plt.subplot(1,3,2)\n",
    "dif_img = np.mean(f,axis=1).reshape(-1,p.M)\n",
    "plt.imshow(dif_img)\n",
    "plt.title(\"Diffraction Limited\")\n",
    "\n",
    "p2 = plt.subplot(1,3,3)\n",
    "music_img = music.reshape(p.Q,p.Q)\n",
    "plt.imshow(music_img)\n",
    "plt.title(\"2D MUSIC Super-Resolution\")\n",
    "\n",
    "plt.show()\n",
    "\n",
    "\n",
    "print(\"Normalized MSE: {}\".format((np.square(np.subtract(music_img, truth_img)).mean()*(1/p.Q)**2)))"
   ]
  }
 ],
 "metadata": {
  "kernelspec": {
   "display_name": "Python 3",
   "language": "python",
   "name": "python3"
  },
  "language_info": {
   "codemirror_mode": {
    "name": "ipython",
    "version": 3
   },
   "file_extension": ".py",
   "mimetype": "text/x-python",
   "name": "python",
   "nbconvert_exporter": "python",
   "pygments_lexer": "ipython3",
   "version": "3.8.6"
  }
 },
 "nbformat": 4,
 "nbformat_minor": 4
}
