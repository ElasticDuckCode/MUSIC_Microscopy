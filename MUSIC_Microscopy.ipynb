{
 "cells": [
  {
   "cell_type": "markdown",
   "metadata": {},
   "source": [
    "# MUSIC Super-resolution Microscopy"
   ]
  },
  {
   "cell_type": "markdown",
   "metadata": {},
   "source": [
    "## Dependencies"
   ]
  },
  {
   "cell_type": "code",
   "execution_count": 17,
   "metadata": {},
   "outputs": [],
   "source": [
    "import time\n",
    "import numpy as np\n",
    "import scipy.linalg\n",
    "from matplotlib import pyplot as plt\n",
    "from scipy.ndimage import gaussian_filter\n",
    "from PIL import Image \n",
    "from skimage import io\n",
    "from mpl_toolkits.mplot3d import Axes3D\n",
    "from tqdm import tqdm\n",
    "from numba import njit, prange\n",
    "\n",
    "# import tensorflow as tf\n",
    "# print(\"Num GPUs Available: \", len(tf.config.list_physical_devices('GPU')))"
   ]
  },
  {
   "cell_type": "markdown",
   "metadata": {},
   "source": [
    "## Program Parameters"
   ]
  },
  {
   "cell_type": "code",
   "execution_count": 120,
   "metadata": {},
   "outputs": [],
   "source": [
    "class params:\n",
    "    k     = 2      # Source number\n",
    "    M     = 8      # Sensor array size (assuming square)\n",
    "    Q     = 64     # MUSIC 'Resolution'\n",
    "    T     = 20     # Snapshot number\n",
    "    noise = 0.00    # Noise power\n",
    "    width = 1       # Sensors are placed between [-width,width]\n",
    "    sep   = 1/10     # Source inter-separation distance\n",
    "    sig   = 0.25/((M-1)/2)    # Gaussian kernel variance\n",
    "    #sig = 1\n",
    "\n",
    "p = params()"
   ]
  },
  {
   "cell_type": "markdown",
   "metadata": {},
   "source": [
    "## Option 1: Creating Synthetic Data"
   ]
  },
  {
   "cell_type": "markdown",
   "metadata": {},
   "source": [
    "$$[U]_{s,k} = u(r_s-r_k) = \\exp(-\\frac{1}{2\\sigma}\\| r_s-r_k \\|^2) $$"
   ]
  },
  {
   "cell_type": "markdown",
   "metadata": {},
   "source": [
    "### Plot 1D Gaussian Kernel (for viewing)"
   ]
  },
  {
   "cell_type": "code",
   "execution_count": 113,
   "metadata": {
    "scrolled": true
   },
   "outputs": [
    {
     "data": {
      "image/png": "[encoded data removed]",
      "text/plain": [
       "<Figure size 432x288 with 2 Axes>"
      ]
     },
     "metadata": {
      "needs_background": "light"
     },
     "output_type": "display_data"
    }
   ],
   "source": [
    "# Plot the 1D Kernel \n",
    "x = np.linspace(-1,1,p.Q).reshape(-1,1)\n",
    "gx = np.exp(-(0.5/p.sig**2)*np.abs(x)**2)\n",
    "gy = np.exp(-(0.5/p.sig**2)*np.abs(x)**2)\n",
    "g  = gx @ gy.T\n",
    "g[g < np.finfo(g.dtype).eps*g.max()] = 0\n",
    "\n",
    "plt.figure()\n",
    "plt.subplot(1,2,1)\n",
    "plt.title('HR Grid Gaussian')\n",
    "plt.imshow(g)\n",
    "plt.subplot(1,2,2)\n",
    "plt.imshow(g[::p.Q//p.M,::p.Q//p.M])\n",
    "plt.title('LR Grid Gaussian')\n",
    "plt.axis(\"image\")\n",
    "plt.show()"
   ]
  },
  {
   "cell_type": "markdown",
   "metadata": {},
   "source": [
    "### Create Synthetic Measurement Data"
   ]
  },
  {
   "cell_type": "code",
   "execution_count": 105,
   "metadata": {},
   "outputs": [],
   "source": [
    "#https://stackoverflow.com/questions/2566412/find-nearest-value-in-numpy-array\n",
    "def find_nearest(array, value):\n",
    "    array = np.asarray(array)\n",
    "    idx = (np.abs(array - value)).argmin()\n",
    "    return idx,array[idx]\n",
    "\n",
    "#https://stackoverflow.com/questions/12201577/how-can-i-convert-an-rgb-image-into-grayscale-in-python\n",
    "# no need to import extra module\n",
    "def rgb2gray(rgb):\n",
    "\n",
    "    r, g, b = rgb[:,:,0], rgb[:,:,1], rgb[:,:,2]\n",
    "    gray = 0.2989 * r + 0.5870 * g + 0.1140 * b\n",
    "\n",
    "    return gray"
   ]
  },
  {
   "cell_type": "markdown",
   "metadata": {},
   "source": [
    "#### 1a: Create Diagonals"
   ]
  },
  {
   "cell_type": "code",
   "execution_count": 114,
   "metadata": {},
   "outputs": [],
   "source": [
    "# Generate diagonal 2D source positions\n",
    "r_kx = np.linspace(-p.sep*p.width,p.sep*p.width,p.k).reshape(-1,1)\n",
    "r_ky = np.linspace(-p.sep*p.width,p.sep*p.width,p.k).reshape(-1,1)\n",
    "r_k  = np.hstack((r_kx,r_ky))\n",
    "\n",
    "# Create High-resolution image representation of source positions\n",
    "hr_sx = np.linspace(-p.width,p.width,p.Q).reshape(-1,1)\n",
    "hr_sy = np.linspace(-p.width,p.width,p.Q).reshape(-1,1)\n",
    "\n",
    "truth_img = np.zeros((p.Q,p.Q))\n",
    "for x,y in r_k:\n",
    "    indx,_ = find_nearest(hr_sx,x)\n",
    "    indy,_ = find_nearest(hr_sy,y)\n",
    "    truth_img[indx,indy] = 1.0"
   ]
  },
  {
   "cell_type": "markdown",
   "metadata": {},
   "source": [
    "#### 1b: or Get from Image"
   ]
  },
  {
   "cell_type": "code",
   "execution_count": 128,
   "metadata": {},
   "outputs": [
    {
     "name": "stdout",
     "output_type": "stream",
     "text": [
      "64\n",
      "8\n",
      "The image contains 2 sources, so M of at least 1.0 is desired.\n"
     ]
    },
    {
     "data": {
      "image/png": "[encoded data removed]",
      "text/plain": [
       "<Figure size 432x288 with 1 Axes>"
      ]
     },
     "metadata": {
      "needs_background": "light"
     },
     "output_type": "display_data"
    }
   ],
   "source": [
    "# Generate 2D source positions from image\n",
    "#img = plt.imread(\"multidiag3.tif\")\n",
    "img = np.array(Image.open('truths/truth_0.png'))\n",
    "img = rgb2gray(img)\n",
    "\n",
    "# Get HR grid size from image instead\n",
    "p.Q = img.shape[0]\n",
    "\n",
    "####\n",
    "p.M = p.Q//8\n",
    "p.sig   = 0.25/((p.M-1)/2)  \n",
    "\n",
    "print(p.Q)\n",
    "print(p.M)\n",
    "\n",
    "# Create that HR grid w/ proper distances\n",
    "hr_sx = np.linspace(-p.width,p.width,p.Q).reshape(-1,1)\n",
    "hr_sy = np.linspace(-p.width,p.width,p.Q).reshape(-1,1)\n",
    "\n",
    "# Get non-zero indicies from truth\n",
    "r_ind = np.asarray(np.nonzero(img.T)).T\n",
    "\n",
    "# Get number of sources\n",
    "p.k = r_ind.shape[0]\n",
    "print('The image contains {} sources, so M of at least {} is desired.'.format(p.k,np.floor(np.sqrt(p.k))))\n",
    "\n",
    "# Convert it to distances, and finalize r_k\n",
    "r_kx = hr_sx[r_ind[:,0]]\n",
    "r_ky = hr_sy[r_ind[:,1]]\n",
    "r_k  = np.hstack((r_kx,r_ky))\n",
    "\n",
    "# Assign truth to proper float variable\n",
    "truth_img = np.zeros((p.Q,p.Q),dtype=float)\n",
    "for n,m in r_ind:\n",
    "    truth_img[m,n] = 1.0\n",
    "plt.imshow(truth_img)\n",
    "plt.show()"
   ]
  },
  {
   "cell_type": "markdown",
   "metadata": {},
   "source": [
    "#### 1c: Random Localizations"
   ]
  },
  {
   "cell_type": "code",
   "execution_count": 141,
   "metadata": {},
   "outputs": [
    {
     "name": "stdout",
     "output_type": "stream",
     "text": [
      "(2, 2)\n"
     ]
    },
    {
     "data": {
      "image/png": "[encoded data removed]",
      "text/plain": [
       "<Figure size 432x288 with 1 Axes>"
      ]
     },
     "metadata": {
      "needs_background": "light"
     },
     "output_type": "display_data"
    }
   ],
   "source": [
    "# Create High-resolution image representation of source positions\n",
    "hr_sx = np.linspace(-p.width,p.width,p.Q).reshape(-1,1)\n",
    "hr_sy = np.linspace(-p.width,p.width,p.Q).reshape(-1,1)\n",
    "\n",
    "r_k = np.random.choice(hr_sx[:,0], (p.k,2)) # assming square image\n",
    "print(r_k.shape)\n",
    "\n",
    "truth_img = np.zeros((p.Q,p.Q))\n",
    "for x,y in r_k:\n",
    "    indx,_ = find_nearest(hr_sx,x)\n",
    "    indy,_ = find_nearest(hr_sy,y)\n",
    "    truth_img[indx,indy] = 1.0\n",
    "\n",
    "truth_img = truth_img.T\n",
    "plt.imshow(truth_img)\n",
    "plt.show()"
   ]
  },
  {
   "cell_type": "markdown",
   "metadata": {},
   "source": [
    "#### 2a: Create Flourescent Sequence"
   ]
  },
  {
   "cell_type": "code",
   "execution_count": 142,
   "metadata": {},
   "outputs": [
    {
     "name": "stdout",
     "output_type": "stream",
     "text": [
      "CPU times: user 1.74 ms, sys: 84 µs, total: 1.83 ms\n",
      "Wall time: 1.06 ms\n"
     ]
    }
   ],
   "source": [
    "%%time\n",
    "# Create 2D (low-resolution) measurement array\n",
    "r_sx = np.linspace(-p.width,p.width,p.M).reshape(-1,1)\n",
    "r_sy = np.linspace(-p.width,p.width,p.M).reshape(-1,1)\n",
    "r_s  = np.hstack((r_sx,r_sy))\n",
    "\n",
    "# From source positions, and the sensors, create the sensing matrix\n",
    "U = np.zeros((p.M**2,p.k))\n",
    "for k in range(p.k):\n",
    "    r  = r_k[k]\n",
    "    arg = r_s - r\n",
    "    uflat = np.exp(-(0.5/p.sig**2)*np.abs(arg)**2)\n",
    "    ux = uflat[:,0].reshape(-1,1)\n",
    "    uy = uflat[:,1].reshape(-1,1)\n",
    "    Uk = ux @ uy.T.conj()\n",
    "    U[:,k] = Uk.flatten('F')\n",
    "\n",
    "# Construct random flucations over frames for the sources\n",
    "x = np.random.uniform(0,1,(p.k,p.T));\n",
    "# Construct additive noise (clip if less than 0)\n",
    "n = p.noise*np.random.randn(p.M**2,p.T)\n",
    "n[np.where(n < 0)] = 0\n",
    "\n",
    "# Construct final measurements\n",
    "f = U @ x + n\n",
    "\n",
    "# Noiseless Measurements\n",
    "f_nl = U @ x;"
   ]
  },
  {
   "cell_type": "markdown",
   "metadata": {},
   "source": [
    "#### 2b: Create one weak and one strong source"
   ]
  },
  {
   "cell_type": "code",
   "execution_count": 8,
   "metadata": {},
   "outputs": [],
   "source": [
    "p.k = 2\n",
    "bright=[1, 4]\n",
    "\n",
    "# Generate diagonal 2D source positions\n",
    "r_kx = np.linspace(-p.sep*p.width,p.sep*p.width,2).reshape(-1,1)\n",
    "r_ky = np.linspace(-p.sep*p.width,p.sep*p.width,2).reshape(-1,1)\n",
    "r_k  = np.hstack((r_kx,r_ky))\n",
    "\n",
    "# Create High-resolution image representation of source positions\n",
    "hr_sx = np.linspace(-p.width,p.width,p.Q).reshape(-1,1)\n",
    "hr_sy = np.linspace(-p.width,p.width,p.Q).reshape(-1,1)\n",
    "\n",
    "truth_img = np.zeros((p.Q,p.Q))\n",
    "for i,xy in enumerate(r_k):\n",
    "    x,y = xy\n",
    "    indx,_ = find_nearest(hr_sx,x)\n",
    "    indy,_ = find_nearest(hr_sy,y)\n",
    "    truth_img[indx,indy] = bright[i]\n",
    "    \n",
    "# Create 2D (low-resolution) measurement array\n",
    "r_sx = np.linspace(-p.width,p.width,p.M).reshape(-1,1)\n",
    "r_sy = np.linspace(-p.width,p.width,p.M).reshape(-1,1)\n",
    "r_s  = np.hstack((r_sx,r_sy))\n",
    "\n",
    "# From source positions, and the sensors, create the sensing matrix\n",
    "U = np.zeros((p.M**2,p.k))\n",
    "for k in range(p.k):\n",
    "    r  = r_k[k]\n",
    "    arg = r_s - r\n",
    "    uflat = np.exp(-(0.5/p.sig**2)*np.abs(arg)**2)\n",
    "    ux = uflat[:,0].reshape(-1,1)\n",
    "    uy = uflat[:,1].reshape(-1,1)\n",
    "    Uk = ux @ uy.T.conj()\n",
    "    U[:,k] = Uk.flatten('F')\n",
    "\n",
    "# Construct random flucations over frames for the sources\n",
    "x  = np.zeros((p.k,p.T))\n",
    "for k in range(p.k): \n",
    "    x[k,:] = np.random.uniform(0,bright[k],(1,p.T))\n",
    "\n",
    "# Construct additive noise (clip if less than 0)\n",
    "n = p.noise*np.random.randn(p.M**2,p.T)\n",
    "n[np.where(n < 0)] = 0\n",
    "\n",
    "# Construct final measurements\n",
    "f = U @ x + n\n",
    "\n",
    "# Noiseless Measurements\n",
    "f_nl = U @ x;"
   ]
  },
  {
   "cell_type": "markdown",
   "metadata": {},
   "source": [
    "#### 3: Save as Sequence File"
   ]
  },
  {
   "cell_type": "code",
   "execution_count": 143,
   "metadata": {
    "scrolled": false
   },
   "outputs": [
    {
     "data": {
      "image/png": "[encoded data removed]",
      "text/plain": [
       "<Figure size 1080x504 with 3 Axes>"
      ]
     },
     "metadata": {
      "needs_background": "light"
     },
     "output_type": "display_data"
    },
    {
     "name": "stdout",
     "output_type": "stream",
     "text": [
      "2 Sources\n",
      "Data Type: float64\n"
     ]
    }
   ],
   "source": [
    "plt.figure(figsize=(15,7))\n",
    "plt.subplot(1,3,1)\n",
    "plt.imshow(truth_img,vmin=0.,vmax=1.)\n",
    "plt.subplot(1,3,2)\n",
    "plt.imshow(np.mean(f,axis=1).reshape(-1,p.M))\n",
    "plt.subplot(1,3,3)\n",
    "plt.imshow(f[:,np.random.randint(p.T)].reshape(-1,p.M))\n",
    "\n",
    "plt.show()\n",
    "print(\"{} Sources\".format(p.k))\n",
    "\n",
    "print(\"Data Type: {}\".format(f.dtype))"
   ]
  },
  {
   "cell_type": "code",
   "execution_count": 12,
   "metadata": {},
   "outputs": [],
   "source": [
    "image_data = np.moveaxis(f.reshape(p.M,p.M,p.T), -1, 0)\n",
    "\n",
    "image_list = []\n",
    "for frame in image_data:\n",
    "    frame = frame/np.max(frame)\n",
    "    frame = frame.astype(\"float32\") # save as 32-bit floating point image\n",
    "    image_list.append(Image.fromarray(frame))\n",
    "    \n",
    "image_list[0].save(\"training.tif\", save_all=True, append_images=image_list[1:])\n",
    "\n",
    "Image.fromarray(truth_img).save(\"truth.tif\")\n",
    "\n",
    "np.save(\"params.npy\",p)"
   ]
  },
  {
   "cell_type": "markdown",
   "metadata": {},
   "source": [
    "# Option 2: Load Sequence File"
   ]
  },
  {
   "cell_type": "code",
   "execution_count": 50,
   "metadata": {},
   "outputs": [
    {
     "ename": "FileNotFoundError",
     "evalue": "[Errno 2] No such file or directory: 'testStack_SimulatedMicrotubules.tif'",
     "output_type": "error",
     "traceback": [
      "\u001b[0;31m---------------------------------------------------------------------------\u001b[0m",
      "\u001b[0;31mFileNotFoundError\u001b[0m                         Traceback (most recent call last)",
      "\u001b[0;32m<ipython-input-50-f83563f7fb78>\u001b[0m in \u001b[0;36m<module>\u001b[0;34m\u001b[0m\n\u001b[0;32m----> 1\u001b[0;31m \u001b[0mdataset\u001b[0m \u001b[0;34m=\u001b[0m \u001b[0mImage\u001b[0m\u001b[0;34m.\u001b[0m\u001b[0mopen\u001b[0m\u001b[0;34m(\u001b[0m\u001b[0;34m'testStack_SimulatedMicrotubules.tif'\u001b[0m\u001b[0;34m)\u001b[0m \u001b[0;31m# keep image functionally for dataset\u001b[0m\u001b[0;34m\u001b[0m\u001b[0;34m\u001b[0m\u001b[0m\n\u001b[0m\u001b[1;32m      2\u001b[0m \u001b[0mtruth_img\u001b[0m \u001b[0;34m=\u001b[0m \u001b[0mnp\u001b[0m\u001b[0;34m.\u001b[0m\u001b[0marray\u001b[0m\u001b[0;34m(\u001b[0m\u001b[0mImage\u001b[0m\u001b[0;34m.\u001b[0m\u001b[0mopen\u001b[0m\u001b[0;34m(\u001b[0m\u001b[0;34m'truth.tif'\u001b[0m\u001b[0;34m)\u001b[0m\u001b[0;34m)\u001b[0m\u001b[0;34m\u001b[0m\u001b[0;34m\u001b[0m\u001b[0m\n\u001b[1;32m      3\u001b[0m \u001b[0;34m\u001b[0m\u001b[0m\n\u001b[1;32m      4\u001b[0m \u001b[0mp\u001b[0m\u001b[0;34m.\u001b[0m\u001b[0mT\u001b[0m \u001b[0;34m=\u001b[0m \u001b[0mdataset\u001b[0m\u001b[0;34m.\u001b[0m\u001b[0mn_frames\u001b[0m\u001b[0;34m\u001b[0m\u001b[0;34m\u001b[0m\u001b[0m\n\u001b[1;32m      5\u001b[0m \u001b[0mp\u001b[0m\u001b[0;34m.\u001b[0m\u001b[0mM\u001b[0m \u001b[0;34m=\u001b[0m \u001b[0mnp\u001b[0m\u001b[0;34m.\u001b[0m\u001b[0mshape\u001b[0m\u001b[0;34m(\u001b[0m\u001b[0mdataset\u001b[0m\u001b[0;34m)\u001b[0m\u001b[0;34m[\u001b[0m\u001b[0;36m0\u001b[0m\u001b[0;34m]\u001b[0m   \u001b[0;31m# Assume square\u001b[0m\u001b[0;34m\u001b[0m\u001b[0;34m\u001b[0m\u001b[0m\n",
      "\u001b[0;32m/usr/lib/python3/dist-packages/PIL/Image.py\u001b[0m in \u001b[0;36mopen\u001b[0;34m(fp, mode)\u001b[0m\n\u001b[1;32m   2876\u001b[0m \u001b[0;34m\u001b[0m\u001b[0m\n\u001b[1;32m   2877\u001b[0m     \u001b[0;32mif\u001b[0m \u001b[0mfilename\u001b[0m\u001b[0;34m:\u001b[0m\u001b[0;34m\u001b[0m\u001b[0;34m\u001b[0m\u001b[0m\n\u001b[0;32m-> 2878\u001b[0;31m         \u001b[0mfp\u001b[0m \u001b[0;34m=\u001b[0m \u001b[0mbuiltins\u001b[0m\u001b[0;34m.\u001b[0m\u001b[0mopen\u001b[0m\u001b[0;34m(\u001b[0m\u001b[0mfilename\u001b[0m\u001b[0;34m,\u001b[0m \u001b[0;34m\"rb\"\u001b[0m\u001b[0;34m)\u001b[0m\u001b[0;34m\u001b[0m\u001b[0;34m\u001b[0m\u001b[0m\n\u001b[0m\u001b[1;32m   2879\u001b[0m         \u001b[0mexclusive_fp\u001b[0m \u001b[0;34m=\u001b[0m \u001b[0;32mTrue\u001b[0m\u001b[0;34m\u001b[0m\u001b[0;34m\u001b[0m\u001b[0m\n\u001b[1;32m   2880\u001b[0m \u001b[0;34m\u001b[0m\u001b[0m\n",
      "\u001b[0;31mFileNotFoundError\u001b[0m: [Errno 2] No such file or directory: 'testStack_SimulatedMicrotubules.tif'"
     ]
    }
   ],
   "source": [
    "dataset = Image.open('testStack_SimulatedMicrotubules.tif') # keep image functionally for dataset\n",
    "truth_img = np.array(Image.open('truth.tif'))\n",
    "\n",
    "p.T = dataset.n_frames\n",
    "p.M = np.shape(dataset)[0]   # Assume square\n",
    "#p.Q = np.shape(truth_img)[0]\n",
    "p.Q = p.M*8\n",
    "#p.k = np.array(np.nonzero(truth_img)).T.shape[0]\n",
    "p.k = 1000\n",
    "\n",
    "# NOTE: ######################################################################### \n",
    "# The sigma used must be provided\n",
    "p.sig = 1/((p.M-1)/2)\n",
    "#p.sig = p.sig\n",
    "#################################################################################\n",
    "\n",
    "\n",
    "print(\"{} Sources\".format(p.k))\n",
    "print(\"{} Square Grid Size\".format(p.M))\n",
    "print(\"{} Snapshots\".format(p.T))\n",
    "\n",
    "# Create 2D (low-resolution) measurement array\n",
    "r_sx = np.linspace(-p.width,p.width,p.M).reshape(-1,1)\n",
    "r_sy = np.linspace(-p.width,p.width,p.M).reshape(-1,1)\n",
    "r_s  = np.hstack((r_sx,r_sy))\n",
    "\n",
    "f = np.zeros((p.M**2,dataset.n_frames))\n",
    "for t in range(p.T):\n",
    "    dataset.seek(t)\n",
    "    frame = np.array(dataset)\n",
    "    frame = frame.astype(np.double)\n",
    "    frame = frame/np.max(frame)\n",
    "    #f[...,t] = frame.reshape(-1,order='F')\n",
    "    f[...,t] = frame.reshape(-1)\n",
    "\n",
    "plt.figure(figsize=(10,5))\n",
    "plt.subplot(1,2,1)\n",
    "plt.imshow(truth_img)\n",
    "plt.title('Truth')\n",
    "plt.subplot(1,2,2)\n",
    "plt.imshow(np.mean(f,axis=1).reshape(p.M,p.M))\n",
    "plt.title('Diffraction Limited')\n",
    "plt.show()"
   ]
  },
  {
   "cell_type": "markdown",
   "metadata": {},
   "source": [
    "## Perform MUSIC to recover sources"
   ]
  },
  {
   "cell_type": "code",
   "execution_count": 144,
   "metadata": {
    "scrolled": true
   },
   "outputs": [],
   "source": [
    "def MUSIC1D(data, sensor_pos, source_num, width, sig, HR_grid_size):\n",
    "    # Perform SVD on the data\n",
    "    U,_,_ = np.linalg.svd(data,full_matrices=True)\n",
    "        \n",
    "    # Select columns of U which correspond to noise-subspace\n",
    "    U2 = U[:,source_num:]\n",
    "    # Create Grid for MUSIC\n",
    "    HR_sensor_pos = np.linspace(-width,width,HR_grid_size)\n",
    "    # Create HR sensing matrix\n",
    "    A = np.exp(-(0.5/p.sig**2)*np.abs(sensor_pos[:,np.newaxis] - HR_sensor_pos)**2)\n",
    "    # Calculate error between sensor image and projection, and invert for MUSIC result\n",
    "    #err = np.linalg.norm( A - U2 @ U2.conj().T @ A, axis=0 )**2\n",
    "    music = np.zeros(HR_grid_size)\n",
    "    for i in range(HR_grid_size):\n",
    "        err = A[:,i].T.conj() @ (U2@U2.T.conj()) @ A[:,i]\n",
    "        music[i] = 1/err\n",
    "    \n",
    "    return HR_sensor_pos,music\n",
    "\n",
    "@njit\n",
    "def MUSIC2D(data, source_num, width, sig, HR_grid_size):\n",
    "    # Create low-resolution sensors\n",
    "    sensor_x = np.linspace(-width,width, int(np.sqrt(data.shape[0]))).reshape(-1,1)\n",
    "    sensor_y = np.linspace(-width,width, int(np.sqrt(data.shape[0]))).reshape(-1,1)\n",
    "    sensor_pos = np.hstack((sensor_x, sensor_y))\n",
    "    \n",
    "    # Perform SVD on the data\n",
    "    U,s,_ = np.linalg.svd(data, full_matrices=True)\n",
    "    \n",
    "    # Select columns of U which correspond to noise-subspace\n",
    "    U2 = U[:,source_num:]\n",
    "    \n",
    "    # Create Grid for MUSIC\n",
    "    HR_sensor_pos_x = np.linspace(-width,width,HR_grid_size).reshape(-1,1)\n",
    "    HR_sensor_pos_y = np.linspace(-width,width,HR_grid_size).reshape(-1,1)\n",
    "    HR_sensor_pos   = np.hstack((HR_sensor_pos_x, HR_sensor_pos_y))\n",
    "\n",
    "    # Create HR sensing matrix\n",
    "    print('Creating High Resolution Sensing Matrix...')\n",
    "    A = np.zeros((sensor_pos.shape[0]**2,HR_grid_size**2))\n",
    "\n",
    "    q = 0\n",
    "    for jj in range(HR_grid_size):\n",
    "        for ii in range(HR_grid_size):\n",
    "            r  = np.array([HR_sensor_pos[ii,0], HR_sensor_pos[jj,1]])\n",
    "            arg = sensor_pos - r\n",
    "            aflat = np.exp(-(0.5/sig**2)*np.abs(arg)**2)\n",
    "            ax = aflat[:,0]\n",
    "            ay = aflat[:,1]\n",
    "            #Aq = ax @ ay.T.conj()\n",
    "            Aq = np.outer(ax,ay.conj())\n",
    "            A[:,q] = Aq.T.flatten()\n",
    "            q = q + 1\n",
    "\n",
    "    # Calculate error between sensor image and projection, and invert for MUSIC result\n",
    "    \n",
    "    print('Calculating 2D MUSIC Result...')\n",
    "    result = U2.conj().T @ A\n",
    "    # Method 1\n",
    "    music  = np.zeros(result.shape[1])\n",
    "    for jj in range(result.shape[1]):\n",
    "        err = np.linalg.norm(result[:,jj])**2\n",
    "        music[jj] = 1/err\n",
    "    \n",
    "    # Method 2\n",
    "#     err = np.linalg.norm(result, axis=0)**2\n",
    "#     music = 1/err\n",
    "    \n",
    "    return s,HR_sensor_pos,music\n",
    "\n"
   ]
  },
  {
   "cell_type": "code",
   "execution_count": 145,
   "metadata": {
    "scrolled": true
   },
   "outputs": [
    {
     "name": "stdout",
     "output_type": "stream",
     "text": [
      "Creating High Resolution Sensing Matrix...\n",
      "Calculating 2D MUSIC Result...\n"
     ]
    }
   ],
   "source": [
    "#singval,music_axis, music = MUSIC2D(f,r_s,150,p.width,p.sig,p.Q)\n",
    "#singval,music_axis, music = MUSIC2D(f,r_s,np.minimum(p.k,p.T),p.width,0.7/(p.M//2),p.Q)\n",
    "singval,music_axis, music = MUSIC2D(f,np.minimum(p.k,p.T),p.width,p.sig,p.Q)"
   ]
  },
  {
   "cell_type": "markdown",
   "metadata": {},
   "source": [
    "## Display Results"
   ]
  },
  {
   "cell_type": "code",
   "execution_count": 146,
   "metadata": {
    "scrolled": false
   },
   "outputs": [
    {
     "data": {
      "image/png": "[encoded data removed]",
      "text/plain": [
       "<Figure size 1080x360 with 3 Axes>"
      ]
     },
     "metadata": {
      "needs_background": "light"
     },
     "output_type": "display_data"
    },
    {
     "name": "stdout",
     "output_type": "stream",
     "text": [
      "Normalized MSE: 0.00010248863831849773\n"
     ]
    }
   ],
   "source": [
    "plt.figure(figsize=(15,5))\n",
    "#plt.figure()\n",
    "\n",
    "plt.set_cmap('viridis')\n",
    "\n",
    "p1 = plt.subplot(1,3,3)\n",
    "plt.imshow(truth_img)\n",
    "plt.title(\"High-Resolution Grid Truth\")\n",
    "\n",
    "p2 = plt.subplot(1,3,1)\n",
    "dif_img = np.mean(f,axis=1).reshape(-1,p.M)\n",
    "plt.imshow(dif_img)\n",
    "plt.title(\"Diffraction Limited\")\n",
    "\n",
    "p2 = plt.subplot(1,3,2)\n",
    "music_img = music.reshape(p.Q,p.Q)/np.max(music)\n",
    "plt.imshow(music_img)\n",
    "plt.title(\"2D MUSIC Super-Resolution\")\n",
    "plt.title(\"Super-Resolution Recovery\")\n",
    "\n",
    "#plt.savefig(\"results/dna_5000_result.png\",facecolor='w')\n",
    "plt.show()\n",
    "\n",
    "\n",
    "print(\"Normalized MSE: {}\".format(np.mean((truth_img - music_img)**2)))\n",
    "\n",
    "#plt.imsave(\"truth.png\", truth_img, cmap='magma')\n",
    "#plt.imsave(\"super.png\", music_img, cmap='magma')\n"
   ]
  },
  {
   "cell_type": "code",
   "execution_count": 316,
   "metadata": {},
   "outputs": [
    {
     "data": {
      "image/png": "[encoded data removed]",
      "text/plain": [
       "<Figure size 1440x720 with 4 Axes>"
      ]
     },
     "metadata": {
      "needs_background": "light"
     },
     "output_type": "display_data"
    }
   ],
   "source": [
    "plt.figure(figsize=(20,10))\n",
    "\n",
    "\n",
    "plt.set_cmap('hot')\n",
    "\n",
    "p1 = plt.subplot(1,4,1)\n",
    "plt.imshow(truth_img)\n",
    "plt.axis('off')\n",
    "plt.title('High-Resolution\\nTruth\\n',fontsize=24)\n",
    "\n",
    "p2 = plt.subplot(1,4,2)\n",
    "plt.imshow(g)\n",
    "plt.axis('off')\n",
    "plt.title('Kernel\\n',fontsize=24);\n",
    "\n",
    "p3 = plt.subplot(1,4,3)\n",
    "plt.imshow(f_nl[:,1].reshape(-1,p.M))\n",
    "plt.axis('off')\n",
    "plt.title('Low-Resolution\\nMeasurements\\n',fontsize=24);\n",
    "\n",
    "p4 = plt.subplot(1,4,4)\n",
    "plt.imshow(f[:,1].reshape(-1,p.M))\n",
    "plt.axis('off')\n",
    "plt.title('Low-Resolution\\nNoisy Measurements\\n',fontsize=24)\n",
    "\n",
    "# p5 = plt.subplot(1,5,5)\n",
    "# plt.imshow(music_img)\n",
    "# plt.axis('off')\n",
    "# plt.title('Super-Resolution\\nImage\\n',fontsize=24)\n",
    "\n",
    "plt.savefig(\"fig.png\");"
   ]
  },
  {
   "cell_type": "code",
   "execution_count": 307,
   "metadata": {},
   "outputs": [
    {
     "name": "stdout",
     "output_type": "stream",
     "text": [
      "(1024, 5000)\n"
     ]
    },
    {
     "data": {
      "image/png": "[encoded data removed]",
      "text/plain": [
       "<Figure size 720x360 with 2 Axes>"
      ]
     },
     "metadata": {
      "needs_background": "light"
     },
     "output_type": "display_data"
    }
   ],
   "source": [
    "plt.figure(figsize=(10,5))\n",
    "\n",
    "singval = scipy.linalg.svdvals(f)\n",
    "print(f.shape)\n",
    "\n",
    "plt.subplot(2,1,1)\n",
    "plt.plot(20*np.log10(singval))\n",
    "plt.title(\"Data Singular Values \")\n",
    "plt.ylabel(\"Value (dB)\")\n",
    "\n",
    "plt.subplot(2,1,2)\n",
    "plt.plot(singval)\n",
    "plt.xlabel(\"Singular Value Index\")\n",
    "plt.ylabel(\"Value\")\n",
    "\n",
    "\n",
    "plt.savefig(\"results/dna_singvals_5000.png\",facecolor='w')"
   ]
  },
  {
   "cell_type": "markdown",
   "metadata": {},
   "source": [
    "## Save Gif"
   ]
  },
  {
   "cell_type": "code",
   "execution_count": 136,
   "metadata": {},
   "outputs": [
    {
     "data": {
      "image/png": "[encoded data removed]",
      "text/plain": [
       "<Figure size 432x288 with 1 Axes>"
      ]
     },
     "metadata": {
      "needs_background": "light"
     },
     "output_type": "display_data"
    }
   ],
   "source": [
    "sequence = []\n",
    "for t in range(p.T):\n",
    "    img  = f[:,t].reshape(-1,p.M);\n",
    "    norm = plt.Normalize(vmin=img.min(), vmax=img.max())\n",
    "    cmap = plt.cm.magma\n",
    "    img  = np.uint8(255*cmap(norm(img)))\n",
    "    img  = Image.fromarray(img)\n",
    "    sequence.append(img)\n",
    "plt.imshow(img)\n",
    "sequence[0].save('sequence.gif', save_all=True, append_images=sequence[1:])"
   ]
  }
 ],
 "metadata": {
  "kernelspec": {
   "display_name": "Python 3",
   "language": "python",
   "name": "python3"
  },
  "language_info": {
   "codemirror_mode": {
    "name": "ipython",
    "version": 3
   },
   "file_extension": ".py",
   "mimetype": "text/x-python",
   "name": "python",
   "nbconvert_exporter": "python",
   "pygments_lexer": "ipython3",
   "version": "3.8.6"
  }
 },
 "nbformat": 4,
 "nbformat_minor": 4
}
