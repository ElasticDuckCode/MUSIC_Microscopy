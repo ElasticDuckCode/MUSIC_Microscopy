{
 "cells": [
  {
   "cell_type": "markdown",
   "metadata": {},
   "source": [
    "# MUSIC Super-resolution Microscopy"
   ]
  },
  {
   "cell_type": "markdown",
   "metadata": {},
   "source": [
    "## Dependencies"
   ]
  },
  {
   "cell_type": "code",
   "execution_count": 277,
   "metadata": {},
   "outputs": [],
   "source": [
    "import numpy as np\n",
    "import matplotlib.pyplot as plt\n",
    "from mpl_toolkits.mplot3d import Axes3D"
   ]
  },
  {
   "cell_type": "markdown",
   "metadata": {},
   "source": [
    "## Program Parameters"
   ]
  },
  {
   "cell_type": "code",
   "execution_count": 446,
   "metadata": {},
   "outputs": [],
   "source": [
    "class params:\n",
    "    k     = 2       # Source number\n",
    "    M     = 16      # Sensor array size (assuming square)\n",
    "    T     = 200     # Snapshot number\n",
    "    noise = 0.001   # Noise power\n",
    "    width = 1       # Sensors are placed between [-width,width]\n",
    "    sep   = 0.25    # Source inter-separation distance\n",
    "    sig   = 0.3     # Gaussian kernel variance\n",
    "    Q     = 32      # MUSIC 'Resolution'\n",
    "p = params()"
   ]
  },
  {
   "cell_type": "markdown",
   "metadata": {},
   "source": [
    "## Model\n",
    "\n",
    "$$ f = Us$$ where $[U]_{m,k} = u(r_m - r_k) = \\exp(-\\frac{1}{2\\sigma^2} (r_m - r_k)^2)$"
   ]
  },
  {
   "cell_type": "markdown",
   "metadata": {},
   "source": [
    "## Gridless Generation of U Matrix (from True Source Points)"
   ]
  },
  {
   "cell_type": "markdown",
   "metadata": {},
   "source": [
    "### From True Source Points"
   ]
  },
  {
   "cell_type": "code",
   "execution_count": 447,
   "metadata": {
    "scrolled": false
   },
   "outputs": [],
   "source": [
    "# Evenly spaced sources\n",
    "w = np.linspace(-p.sep/2,p.sep/2,p.k)\n",
    "w = np.vstack((w,w))\n",
    "\n",
    "# Uniform Linear Array (ULA)\n",
    "v1 = np.arange(0,p.M).reshape(-p.width,p.width) - (p.M-1)//2\n",
    "# Normalize between -1 and 1\n",
    "v1 = 2*v1/p.M\n",
    "\n",
    "# Build the Gaussian (U matrix)\n",
    "\n",
    "U = np.zeros((p.M**2,p.k))\n",
    "for k in range(p.k):\n",
    "    argx = v1 - w[0,k]\n",
    "    argy = v1 - w[1,k]\n",
    "    \n",
    "    vx = np.exp(-(0.5/p.sig**2)*np.square(argx))\n",
    "    vy = np.exp(-(0.5/p.sig**2)*np.square(argy))\n",
    "\n",
    "    V = vx @ vy.T\n",
    "    U[:,k] = V.reshape(-1)\n"
   ]
  },
  {
   "cell_type": "markdown",
   "metadata": {},
   "source": [
    "### From Ground Truth Image"
   ]
  },
  {
   "cell_type": "code",
   "execution_count": 374,
   "metadata": {},
   "outputs": [],
   "source": [
    "# Instead now create truth image\n",
    "# x = np.zeros((p.Q,p.Q))\n",
    "# x[p.Q//3,p.Q//3] = 1\n",
    "# x[2*p.Q//3,2*p.Q//3] = 1\n",
    "\n",
    "# # Create linear array locations\n",
    "# v1 = np.arange(0,p.M).reshape(-1,1) - (p.M-1)//2\n",
    "\n",
    "# # Our U matrix needs to be bigger now, including array points which might not even have a source.\n",
    "# v2 = np.linspace(-3,3,p.Q)\n",
    "\n",
    "# U = np.zeros((p.M**2,p.Q))\n",
    "# for kx in range(p.Q):\n",
    "#     for ky in range(p.Q):\n",
    "#         argx = v1 - v2[kx]\n",
    "#         argy = v1 - v2[ky]\n",
    "    \n",
    "#         vx = np.exp(-0.5*np.square(argx/p.sig))\n",
    "#         vy = np.exp(-0.5*np.square(argy/p.sig))\n",
    "\n",
    "#         V = vx @ vy.T\n",
    "#         U[:,k] = V.reshape(-1)\n",
    "\n",
    "# print(v2)\n",
    "# plt.figure()\n",
    "# plt.imshow(truth)\n",
    "# plt.show()"
   ]
  },
  {
   "cell_type": "markdown",
   "metadata": {},
   "source": [
    "## Measurement Data Generation \n",
    "### (True Source Positions)"
   ]
  },
  {
   "cell_type": "code",
   "execution_count": 448,
   "metadata": {},
   "outputs": [
    {
     "data": {
      "text/plain": [
       "<matplotlib.image.AxesImage at 0x7fa7c60cba90>"
      ]
     },
     "execution_count": 448,
     "metadata": {},
     "output_type": "execute_result"
    },
    {
     "data": {
      "image/png": "[encoded data removed]",
      "text/plain": [
       "<Figure size 432x288 with 1 Axes>"
      ]
     },
     "metadata": {
      "needs_background": "light"
     },
     "output_type": "display_data"
    }
   ],
   "source": [
    "# Random Data\n",
    "x = np.random.randn(p.k,p.T)\n",
    "# Additive Gaussian Noise\n",
    "n = p.noise * np.random.randn(p.M**2,p.T)\n",
    "# Measurements\n",
    "f = U @ x + n\n",
    "\n",
    "plt.figure()\n",
    "plt.imshow(np.abs(f[:,p.T//4]).reshape(p.M,p.M))"
   ]
  },
  {
   "cell_type": "markdown",
   "metadata": {},
   "source": [
    "### (From Image)"
   ]
  },
  {
   "cell_type": "code",
   "execution_count": 347,
   "metadata": {},
   "outputs": [],
   "source": [
    "# Vectorize Truth\n",
    "\n",
    "# # Additive Gaussian Noise\n",
    "# n = p.noise * np.random.randn(p.M**2,p.T)\n",
    "# # Measurements\n",
    "# f = U @ x + n"
   ]
  },
  {
   "cell_type": "markdown",
   "metadata": {},
   "source": [
    "## Autocorrelation Estimates"
   ]
  },
  {
   "cell_type": "code",
   "execution_count": 449,
   "metadata": {},
   "outputs": [],
   "source": [
    "R_ff = 1/p.T * f @ f.T"
   ]
  },
  {
   "cell_type": "markdown",
   "metadata": {},
   "source": [
    "## Perform MUSIC"
   ]
  },
  {
   "cell_type": "code",
   "execution_count": 452,
   "metadata": {},
   "outputs": [],
   "source": [
    "def MUSIC(R_ff, v1, L, sig, Q, width):\n",
    "    # Perform Eigenvalue Decomposition on autocorrelation matrix\n",
    "    U,_,_ = np.linalg.svd(R_ff)\n",
    "    \n",
    "    # Segment \n",
    "    V1 = U[:,:L]\n",
    "    V2 = U[:,L:]\n",
    "    \n",
    "    # Build MUSIC high-resolution 'grid'\n",
    "    v2 = np.linspace(-width,width,Q)\n",
    "    \n",
    "    # Build new matrix\n",
    "    X = np.zeros((len(v1),len(v2)))\n",
    "    X = X[...,:] + v1;\n",
    "    X = X[:,...] - v2;\n",
    "    \n",
    "    A = np.exp(-0.5*np.square(X/sig))\n",
    "    \n",
    "    img = np.zeros((Q,1))\n",
    "    \n",
    "    for k in range(Q):\n",
    "        NOISE = A[:,k].conj().T @ ( V2 @ V2.conj().T ) @ A[:,k]\n",
    "        img[k] = 1/NOISE\n",
    "    \n",
    "    return img\n",
    "\n",
    "def MUSIC2D(R_ff, v1, L, sig, Q, width):\n",
    "    # SVD Decomposition on our autocorrelation matrix\n",
    "    U,_,_ = np.linalg.svd(R_ff)\n",
    "    \n",
    "    # Segment in to signal and noise subspaces\n",
    "    V1 = U[:,:L]\n",
    "    V2 = U[:,L:]\n",
    "    \n",
    "    # Build MUSIC high-resolution source 'grid'\n",
    "    v2 = np.linspace(-width,width,Q)\n",
    "    \n",
    "    A = np.zeros((len(v1)**2,Q**2))\n",
    "    q = 0\n",
    "    for kx in v2:\n",
    "        for ky in v2:\n",
    "            argx = v1 - kx\n",
    "            argy = v1 - ky\n",
    "            \n",
    "            ax = np.exp(-0.5*np.square(argx/p.sig))\n",
    "            ay = np.exp(-0.5*np.square(argy/p.sig))\n",
    "            a  = ax @ ay.T\n",
    "            A[:,q] = a.reshape(-1)\n",
    "            q = q + 1\n",
    "    \n",
    "    img = np.zeros((Q**2,1))\n",
    "    for q in range(Q**2):\n",
    "        NOISE = A[:,q].conj().T @ ( V2 @ V2.conj().T ) @ A[:,q]\n",
    "        img[q] = 1/NOISE\n",
    "    \n",
    "    return img.reshape(Q,Q)"
   ]
  },
  {
   "cell_type": "code",
   "execution_count": 453,
   "metadata": {},
   "outputs": [],
   "source": [
    "img = MUSIC2D(R_ff,v1,p.k,p.sig,p.Q,p.width)"
   ]
  },
  {
   "cell_type": "markdown",
   "metadata": {},
   "source": [
    "## Results"
   ]
  },
  {
   "cell_type": "markdown",
   "metadata": {},
   "source": [
    "### Create Ground Truth Image"
   ]
  },
  {
   "cell_type": "code",
   "execution_count": 454,
   "metadata": {},
   "outputs": [],
   "source": [
    "#https://stackoverflow.com/questions/2566412/find-nearest-value-in-numpy-array\n",
    "def find_nearest(a, a0):\n",
    "    \"Element in nd array `a` closest to the scalar value `a0`\"\n",
    "    idx = np.abs(a - a0).argmin()\n",
    "    return idx, a.flat[idx]\n",
    "\n",
    "\n",
    "hr_axis = np.linspace(-1,1,p.Q)\n",
    "\n",
    "# Assume diagonal sources, so grab just one cordinate\n",
    "ww = w[0,:]\n",
    "\n",
    "# Find points on high-resolution grid closest to truth\n",
    "truth = np.zeros((p.Q,p.Q))\n",
    "for k in range(p.k):\n",
    "    indx,_ = find_nearest(hr_axis,ww[k])\n",
    "    truth[indx,indx] = 1"
   ]
  },
  {
   "cell_type": "markdown",
   "metadata": {},
   "source": [
    "### Create Diffraction Limited Image"
   ]
  },
  {
   "cell_type": "code",
   "execution_count": 455,
   "metadata": {},
   "outputs": [],
   "source": [
    "dif_lim = np.mean(np.abs(f),axis=1).reshape(p.M,p.M)"
   ]
  },
  {
   "cell_type": "markdown",
   "metadata": {},
   "source": [
    "### Create Plots"
   ]
  },
  {
   "cell_type": "code",
   "execution_count": 456,
   "metadata": {},
   "outputs": [
    {
     "data": {
      "image/png": "[encoded data removed]",
      "text/plain": [
       "<Figure size 1080x720 with 3 Axes>"
      ]
     },
     "metadata": {
      "needs_background": "light"
     },
     "output_type": "display_data"
    }
   ],
   "source": [
    "plt.figure(figsize=(15,10))\n",
    "plt1 = plt.subplot(1,3,1)\n",
    "plt.imshow(truth)\n",
    "plt.title(\"Ground Truth\")\n",
    "\n",
    "plt2 = plt.subplot(1,3,2)\n",
    "plt.imshow(dif_lim)\n",
    "plt.title(\"Diffraction Limited Image\")\n",
    "\n",
    "plt3 = plt.subplot(1,3,3)\n",
    "plt.imshow(img)\n",
    "plt.title(\"2D MUSIC Recovery\")\n",
    "\n",
    "plt.show()"
   ]
  }
 ],
 "metadata": {
  "kernelspec": {
   "display_name": "Python 3",
   "language": "python",
   "name": "python3"
  },
  "language_info": {
   "codemirror_mode": {
    "name": "ipython",
    "version": 3
   },
   "file_extension": ".py",
   "mimetype": "text/x-python",
   "name": "python",
   "nbconvert_exporter": "python",
   "pygments_lexer": "ipython3",
   "version": "3.8.6"
  }
 },
 "nbformat": 4,
 "nbformat_minor": 4
}
