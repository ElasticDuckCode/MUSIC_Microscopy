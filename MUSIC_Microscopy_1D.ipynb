{
 "cells": [
  {
   "cell_type": "markdown",
   "metadata": {},
   "source": [
    "# MUSIC Super-resolution Microscopy"
   ]
  },
  {
   "cell_type": "markdown",
   "metadata": {},
   "source": [
    "## Dependencies"
   ]
  },
  {
   "cell_type": "code",
   "execution_count": 2,
   "metadata": {},
   "outputs": [],
   "source": [
    "import numpy as np\n",
    "import matplotlib.pyplot as plt\n",
    "from scipy.ndimage import gaussian_filter\n",
    "from PIL import Image\n",
    "from mpl_toolkits.mplot3d import Axes3D"
   ]
  },
  {
   "cell_type": "markdown",
   "metadata": {},
   "source": [
    "## Program Parameters"
   ]
  },
  {
   "cell_type": "code",
   "execution_count": 50,
   "metadata": {},
   "outputs": [],
   "source": [
    "class params:\n",
    "    k     = 2       # Source number\n",
    "    M     = 8      # Sensor array size (assuming square)\n",
    "    T     = 200     # Snapshot number\n",
    "    noise = 0       # Noise power\n",
    "    width = 1       # Sensors are placed between [-width,width]\n",
    "    sep   = 0.5    # Source inter-separation distance\n",
    "    sig   = 0.1       # Gaussian kernel variance\n",
    "    Q     = 128      # MUSIC 'Resolution'\n",
    "p = params()"
   ]
  },
  {
   "cell_type": "markdown",
   "metadata": {},
   "source": [
    "## Creating Synthetic Data"
   ]
  },
  {
   "cell_type": "markdown",
   "metadata": {},
   "source": [
    "$$[U]_{s,k} = u(r_s-r_k) = \\exp(-\\frac{1}{2\\sigma}\\| r_s-r_k \\|^2) $$"
   ]
  },
  {
   "cell_type": "markdown",
   "metadata": {},
   "source": [
    "### Plot 1D Gaussian Kernel (for viewing)"
   ]
  },
  {
   "cell_type": "code",
   "execution_count": 51,
   "metadata": {
    "scrolled": true
   },
   "outputs": [
    {
     "data": {
      "image/png": "[encoded data removed]",
      "text/plain": [
       "<Figure size 432x288 with 1 Axes>"
      ]
     },
     "metadata": {
      "needs_background": "light"
     },
     "output_type": "display_data"
    }
   ],
   "source": [
    "# Plot the 1D Kernel \n",
    "x = np.linspace(-10,10,10000)\n",
    "g = np.exp(-(0.5/p.sig**2)*np.abs(x)**2)\n",
    "plt.plot(x,g)\n",
    "plt.title('Gaussian')\n",
    "plt.show()"
   ]
  },
  {
   "cell_type": "markdown",
   "metadata": {},
   "source": [
    "### Create Synthetic Measurement Data"
   ]
  },
  {
   "cell_type": "code",
   "execution_count": 52,
   "metadata": {},
   "outputs": [],
   "source": [
    "# Positions\n",
    "r_k = np.linspace(-p.sep*p.width,p.sep*p.width,p.k)\n",
    "# Create measurement array\n",
    "r_s = np.linspace(-p.width,p.width,p.M)\n",
    "# From source positions, and the sensors, create the sensing matrix\n",
    "U = np.exp(-(0.5/p.sig**2)*np.abs(r_s[:,np.newaxis] - r_k)**2)\n",
    "\n",
    "# Construct random flucations over frames for the sources\n",
    "x = np.random.uniform(0,2,(p.k,p.T));\n",
    "# Construct additive noise (clip if less than 0)\n",
    "n = p.noise*np.random.randn(p.M,p.T)\n",
    "n[np.where(n < 0)] = 0\n",
    "\n",
    "# Construct final measurements\n",
    "f = U @ x + n"
   ]
  },
  {
   "cell_type": "markdown",
   "metadata": {},
   "source": [
    "## Perform MUSIC to recover sources"
   ]
  },
  {
   "cell_type": "code",
   "execution_count": 53,
   "metadata": {},
   "outputs": [],
   "source": [
    "def MUSIC1D(data, sensor_pos, source_num, width, sig, HR_grid_size):\n",
    "    # Perform SVD on the data\n",
    "    U,_,_ = np.linalg.svd(data)\n",
    "    # Select columns of U which correspond to noise-subspace\n",
    "    U2 = U[:,source_num:]\n",
    "    # Create Grid for MUSIC\n",
    "    HR_sensor_pos = np.linspace(-width,width,HR_grid_size)\n",
    "    # Create HR sensing matrix\n",
    "    A = np.exp(-(0.5/p.sig**2)*np.abs(sensor_pos[:,np.newaxis] - HR_sensor_pos)**2)\n",
    "    # Calculate error between sensor image and projection, and invert for MUSIC result\n",
    "    #err = np.linalg.norm( A - U2 @ U2.conj().T @ A, axis=0 )**2\n",
    "    music = np.zeros(HR_grid_size)\n",
    "    for i in range(HR_grid_size):\n",
    "        err = A[:,i].T.conj() @ (U2@U2.T.conj()) @ A[:,i]\n",
    "        music[i] = 1/err\n",
    "    \n",
    "    return HR_sensor_pos,music\n",
    "\n",
    "music_axis, music = MUSIC1D(f,r_s,p.k,p.width,p.sig,p.Q)"
   ]
  },
  {
   "cell_type": "markdown",
   "metadata": {},
   "source": [
    "## Display Results"
   ]
  },
  {
   "cell_type": "code",
   "execution_count": 54,
   "metadata": {},
   "outputs": [
    {
     "data": {
      "image/png": "[encoded data removed]",
      "text/plain": [
       "<Figure size 720x360 with 3 Axes>"
      ]
     },
     "metadata": {
      "needs_background": "light"
     },
     "output_type": "display_data"
    }
   ],
   "source": [
    "plt.figure(figsize=(10,5))\n",
    "\n",
    "plt.subplot(3,1,1)\n",
    "plt.stem(r_k,np.ones((p.k,1)),'r')\n",
    "plt.stem(music_axis,np.zeros((p.Q,1)),'r')\n",
    "plt.title('True Source Positions')\n",
    "\n",
    "plt.subplot(3,1,2)\n",
    "plt.stem(r_s,np.mean(f,axis=1)/np.max(f[:,0]),'g')\n",
    "plt.title('Measurement Snapshot')\n",
    "\n",
    "plt.subplot(3,1,3)\n",
    "plt.stem(music_axis,music/np.max(music),'b')\n",
    "plt.title('1D MUSIC (Non-correlation)')\n",
    "\n",
    "plt.tight_layout()\n",
    "plt.show()"
   ]
  }
 ],
 "metadata": {
  "kernelspec": {
   "display_name": "Python 3",
   "language": "python",
   "name": "python3"
  },
  "language_info": {
   "codemirror_mode": {
    "name": "ipython",
    "version": 3
   },
   "file_extension": ".py",
   "mimetype": "text/x-python",
   "name": "python",
   "nbconvert_exporter": "python",
   "pygments_lexer": "ipython3",
   "version": "3.8.6"
  }
 },
 "nbformat": 4,
 "nbformat_minor": 4
}
